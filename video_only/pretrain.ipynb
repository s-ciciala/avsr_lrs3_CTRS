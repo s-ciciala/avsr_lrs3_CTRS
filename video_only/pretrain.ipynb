{
 "cells": [
  {
   "cell_type": "code",
   "execution_count": 1,
   "id": "66d6fde2",
   "metadata": {},
   "outputs": [
    {
     "name": "stderr",
     "output_type": "stream",
     "text": [
      "E:\\miniconda3\\envs\\lrs3_train\\lib\\site-packages\\tqdm\\auto.py:22: TqdmWarning: IProgress not found. Please update jupyter and ipywidgets. See https://ipywidgets.readthedocs.io/en/stable/user_install.html\n",
      "  from .autonotebook import tqdm as notebook_tqdm\n"
     ]
    }
   ],
   "source": [
    "import torch\n",
    "import torch.optim as optim\n",
    "import torch.nn as nn\n",
    "from torch.utils.data import DataLoader\n",
    "import numpy as np\n",
    "import matplotlib\n",
    "import matplotlib.pyplot as plt\n",
    "import os, shutil\n",
    "\n",
    "from config import args\n",
    "from models.video_net import VideoNet\n",
    "from data.lrs2_dataset import LRS2Pretrain\n",
    "from data.utils import collate_fn\n",
    "from utils.general import num_params, train, evaluate"
   ]
  },
  {
   "cell_type": "code",
   "execution_count": 3,
   "id": "12a98065",
   "metadata": {},
   "outputs": [],
   "source": [
    "matplotlib.use(\"Agg\")\n",
    "np.random.seed(args[\"SEED\"])\n",
    "torch.manual_seed(args[\"SEED\"])\n",
    "gpuAvailable = torch.cuda.is_available()\n",
    "device = torch.device(\"cuda\" if gpuAvailable else \"cpu\")\n",
    "kwargs = {\"num_workers\": args[\"NUM_WORKERS\"], \"pin_memory\": True} if gpuAvailable else {}\n",
    "torch.backends.cudnn.deterministic = True\n",
    "torch.backends.cudnn.benchmark = False"
   ]
  },
  {
   "cell_type": "code",
   "execution_count": 4,
   "id": "f136bf8b",
   "metadata": {},
   "outputs": [
    {
     "ename": "FileNotFoundError",
     "evalue": "[Errno 2] No such file or directory: '../lrs3//pretrain.txt'",
     "output_type": "error",
     "traceback": [
      "\u001b[1;31m---------------------------------------------------------------------------\u001b[0m",
      "\u001b[1;31mFileNotFoundError\u001b[0m                         Traceback (most recent call last)",
      "Cell \u001b[1;32mIn[4], line 3\u001b[0m\n\u001b[0;32m      1\u001b[0m \u001b[38;5;66;03m#declaring the pretrain and the preval datasets and the corresponding dataloaders\u001b[39;00m\n\u001b[0;32m      2\u001b[0m videoParams \u001b[38;5;241m=\u001b[39m {\u001b[38;5;124m\"\u001b[39m\u001b[38;5;124mvideoFPS\u001b[39m\u001b[38;5;124m\"\u001b[39m:args[\u001b[38;5;124m\"\u001b[39m\u001b[38;5;124mVIDEO_FPS\u001b[39m\u001b[38;5;124m\"\u001b[39m]}\n\u001b[1;32m----> 3\u001b[0m pretrainData \u001b[38;5;241m=\u001b[39m \u001b[43mLRS2Pretrain\u001b[49m\u001b[43m(\u001b[49m\u001b[38;5;124;43m\"\u001b[39;49m\u001b[38;5;124;43mpretrain\u001b[39;49m\u001b[38;5;124;43m\"\u001b[39;49m\u001b[43m,\u001b[49m\u001b[43m \u001b[49m\u001b[43margs\u001b[49m\u001b[43m[\u001b[49m\u001b[38;5;124;43m\"\u001b[39;49m\u001b[38;5;124;43mDATA_DIRECTORY\u001b[39;49m\u001b[38;5;124;43m\"\u001b[39;49m\u001b[43m]\u001b[49m\u001b[43m,\u001b[49m\u001b[43m \u001b[49m\u001b[43margs\u001b[49m\u001b[43m[\u001b[49m\u001b[38;5;124;43m\"\u001b[39;49m\u001b[38;5;124;43mPRETRAIN_NUM_WORDS\u001b[39;49m\u001b[38;5;124;43m\"\u001b[39;49m\u001b[43m]\u001b[49m\u001b[43m,\u001b[49m\u001b[43m \u001b[49m\u001b[43margs\u001b[49m\u001b[43m[\u001b[49m\u001b[38;5;124;43m\"\u001b[39;49m\u001b[38;5;124;43mCHAR_TO_INDEX\u001b[39;49m\u001b[38;5;124;43m\"\u001b[39;49m\u001b[43m]\u001b[49m\u001b[43m,\u001b[49m\u001b[43m \u001b[49m\u001b[43margs\u001b[49m\u001b[43m[\u001b[49m\u001b[38;5;124;43m\"\u001b[39;49m\u001b[38;5;124;43mSTEP_SIZE\u001b[39;49m\u001b[38;5;124;43m\"\u001b[39;49m\u001b[43m]\u001b[49m\u001b[43m,\u001b[49m\n\u001b[0;32m      4\u001b[0m \u001b[43m                                \u001b[49m\u001b[43mvideoParams\u001b[49m\u001b[43m)\u001b[49m\n\u001b[0;32m      5\u001b[0m pretrainLoader \u001b[38;5;241m=\u001b[39m DataLoader(pretrainData, batch_size\u001b[38;5;241m=\u001b[39margs[\u001b[38;5;124m\"\u001b[39m\u001b[38;5;124mBATCH_SIZE\u001b[39m\u001b[38;5;124m\"\u001b[39m], collate_fn\u001b[38;5;241m=\u001b[39mcollate_fn, shuffle\u001b[38;5;241m=\u001b[39m\u001b[38;5;28;01mTrue\u001b[39;00m, \u001b[38;5;241m*\u001b[39m\u001b[38;5;241m*\u001b[39mkwargs)\n\u001b[0;32m      6\u001b[0m prevalData \u001b[38;5;241m=\u001b[39m LRS2Pretrain(\u001b[38;5;124m\"\u001b[39m\u001b[38;5;124mpreval\u001b[39m\u001b[38;5;124m\"\u001b[39m, args[\u001b[38;5;124m\"\u001b[39m\u001b[38;5;124mDATA_DIRECTORY\u001b[39m\u001b[38;5;124m\"\u001b[39m], args[\u001b[38;5;124m\"\u001b[39m\u001b[38;5;124mPRETRAIN_NUM_WORDS\u001b[39m\u001b[38;5;124m\"\u001b[39m], args[\u001b[38;5;124m\"\u001b[39m\u001b[38;5;124mCHAR_TO_INDEX\u001b[39m\u001b[38;5;124m\"\u001b[39m], args[\u001b[38;5;124m\"\u001b[39m\u001b[38;5;124mSTEP_SIZE\u001b[39m\u001b[38;5;124m\"\u001b[39m],\n\u001b[0;32m      7\u001b[0m                               videoParams)\n",
      "File \u001b[1;32mE:\\YEAR5\\MINF\\avsr_lr3\\video_only\\data\\lrs2_dataset.py:25\u001b[0m, in \u001b[0;36mLRS2Pretrain.__init__\u001b[1;34m(self, dataset, datadir, numWords, charToIx, stepSize, videoParams)\u001b[0m\n\u001b[0;32m     23\u001b[0m \u001b[38;5;28;01mdef\u001b[39;00m \u001b[38;5;21m__init__\u001b[39m(\u001b[38;5;28mself\u001b[39m, dataset, datadir, numWords, charToIx, stepSize, videoParams):\n\u001b[0;32m     24\u001b[0m     \u001b[38;5;28msuper\u001b[39m(LRS2Pretrain, \u001b[38;5;28mself\u001b[39m)\u001b[38;5;241m.\u001b[39m\u001b[38;5;21m__init__\u001b[39m()\n\u001b[1;32m---> 25\u001b[0m     \u001b[38;5;28;01mwith\u001b[39;00m \u001b[38;5;28;43mopen\u001b[39;49m\u001b[43m(\u001b[49m\u001b[43mdatadir\u001b[49m\u001b[43m \u001b[49m\u001b[38;5;241;43m+\u001b[39;49m\u001b[43m \u001b[49m\u001b[38;5;124;43m\"\u001b[39;49m\u001b[38;5;124;43m/\u001b[39;49m\u001b[38;5;124;43m\"\u001b[39;49m\u001b[43m \u001b[49m\u001b[38;5;241;43m+\u001b[39;49m\u001b[43m \u001b[49m\u001b[43mdataset\u001b[49m\u001b[43m \u001b[49m\u001b[38;5;241;43m+\u001b[39;49m\u001b[43m \u001b[49m\u001b[38;5;124;43m\"\u001b[39;49m\u001b[38;5;124;43m.txt\u001b[39;49m\u001b[38;5;124;43m\"\u001b[39;49m\u001b[43m,\u001b[49m\u001b[43m \u001b[49m\u001b[38;5;124;43m\"\u001b[39;49m\u001b[38;5;124;43mr\u001b[39;49m\u001b[38;5;124;43m\"\u001b[39;49m\u001b[43m)\u001b[49m \u001b[38;5;28;01mas\u001b[39;00m f:\n\u001b[0;32m     26\u001b[0m         lines \u001b[38;5;241m=\u001b[39m f\u001b[38;5;241m.\u001b[39mreadlines()\n\u001b[0;32m     27\u001b[0m     \u001b[38;5;28mself\u001b[39m\u001b[38;5;241m.\u001b[39mdatalist \u001b[38;5;241m=\u001b[39m [datadir \u001b[38;5;241m+\u001b[39m \u001b[38;5;124m\"\u001b[39m\u001b[38;5;124m/pretrain/\u001b[39m\u001b[38;5;124m\"\u001b[39m \u001b[38;5;241m+\u001b[39m line\u001b[38;5;241m.\u001b[39mstrip() \u001b[38;5;28;01mfor\u001b[39;00m line \u001b[38;5;129;01min\u001b[39;00m lines]\n",
      "\u001b[1;31mFileNotFoundError\u001b[0m: [Errno 2] No such file or directory: '../lrs3//pretrain.txt'"
     ]
    }
   ],
   "source": [
    "#declaring the pretrain and the preval datasets and the corresponding dataloaders\n",
    "videoParams = {\"videoFPS\":args[\"VIDEO_FPS\"]}\n",
    "pretrainData = LRS2Pretrain(\"pretrain\", args[\"DATA_DIRECTORY\"], args[\"PRETRAIN_NUM_WORDS\"], args[\"CHAR_TO_INDEX\"], args[\"STEP_SIZE\"],\n",
    "                                videoParams)\n",
    "pretrainLoader = DataLoader(pretrainData, batch_size=args[\"BATCH_SIZE\"], collate_fn=collate_fn, shuffle=True, **kwargs)\n",
    "prevalData = LRS2Pretrain(\"preval\", args[\"DATA_DIRECTORY\"], args[\"PRETRAIN_NUM_WORDS\"], args[\"CHAR_TO_INDEX\"], args[\"STEP_SIZE\"],\n",
    "                              videoParams)\n",
    "prevalLoader = DataLoader(prevalData, batch_size=args[\"BATCH_SIZE\"], collate_fn=collate_fn, shuffle=True, **kwargs)"
   ]
  },
  {
   "cell_type": "code",
   "execution_count": null,
   "id": "c6406228",
   "metadata": {},
   "outputs": [],
   "source": []
  },
  {
   "cell_type": "code",
   "execution_count": null,
   "id": "bf0bd670",
   "metadata": {},
   "outputs": [],
   "source": []
  },
  {
   "cell_type": "code",
   "execution_count": null,
   "id": "3e11555c",
   "metadata": {},
   "outputs": [],
   "source": []
  }
 ],
 "metadata": {
  "kernelspec": {
   "display_name": "Python 3 (ipykernel)",
   "language": "python",
   "name": "python3"
  },
  "language_info": {
   "codemirror_mode": {
    "name": "ipython",
    "version": 3
   },
   "file_extension": ".py",
   "mimetype": "text/x-python",
   "name": "python",
   "nbconvert_exporter": "python",
   "pygments_lexer": "ipython3",
   "version": "3.10.9"
  }
 },
 "nbformat": 4,
 "nbformat_minor": 5
}
